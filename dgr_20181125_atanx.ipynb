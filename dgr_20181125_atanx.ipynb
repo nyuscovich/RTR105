{
 "cells": [
  {
   "cell_type": "code",
   "execution_count": 1,
   "metadata": {},
   "outputs": [
    {
     "name": "stdin",
     "output_type": "stream",
     "text": [
      "Lietotaj, ludzu, ievadi argumentu (x):  25\n"
     ]
    },
    {
     "name": "stdout",
     "output_type": "stream",
     "text": [
      "Standarta atan(25.00) =   1.53\n",
      "Izdruka no liet.f. a0 =   1.00 S0 =   1.00\n",
      "Izdruka no liet.f. a499 =   0.00 S499 =   1.53\n",
      "Izdruka no liet.f a500 =   0.00 S500 =   1.53\n",
      "Mans atan(25.00) =   1.53\n",
      "                          500                               \n",
      "                        _______                             \n",
      "                x       \\                                   \n",
      "              _____      \\                             2 k  \n",
      "atan(%.2f) =              \\      (2*k)!             (x)     \n",
      "               ____        \\________________  * ___________ \n",
      "               /  2        /     2  k                  2 k  \n",
      "             \\/1+x        / (k)! * 4 * (2*k+1)    (1+(x))   \n",
      "                         /                                  \n",
      "                        /_______                            \n",
      "                          k = 0                             \n",
      "                                 2        2                 \n",
      "                           (2k-1)        x                  \n",
      "Rekurences reizinatajs:  ___________ * ______               \n",
      "                          2k*(2k+1)        2                \n",
      "                                        1+x                 \n"
     ]
    }
   ],
   "source": [
    "# -*- coding: utf-8 -*-\n",
    "from math import atan\n",
    "import math\n",
    "\n",
    "def mans_atan(x):\n",
    "    k = 0\n",
    "    a = (1/(1**2*4**0*(2*0+1)))*((x**2/(1+x**2))**0)\n",
    "    S = a\n",
    "    print(\"Izdruka no liet.f. a0 = %6.2f S0 = %6.2f\"%(a,S))\n",
    "\n",
    "    while k < 500:\n",
    "        k = k + 1\n",
    "        R = (((2*k-1)**2)/(2*k*(2*k+1)))*((x**2)/(1+x**2))\n",
    "        a = a * R\n",
    "        S = S + a\n",
    "        if k == 499:\n",
    "            print(\"Izdruka no liet.f. a%d = %6.2f S%d = %6.2f\"%(k, a, k, S))\n",
    "    print(\"Izdruka no liet.f a500 = %6.2f S500 = %6.2f\"%(a,S))\n",
    "    S = (x/math.sqrt(1+x**2))*S\n",
    "    return S\n",
    "        \n",
    "x = float(input(\"Lietotaj, ludzu, ievadi argumentu (x): \"))\n",
    "y = atan(x)\n",
    "print(\"Standarta atan(%.2f) = %6.2f\"%(x,y))\n",
    "\n",
    "yy = mans_atan(x)\n",
    "print(\"Mans atan(%.2f) = %6.2f\"%(x,yy))\n",
    "\n",
    "print(\"                          500                               \")\n",
    "print(\"                        _______                             \")\n",
    "print(\"                x       \\                                   \")\n",
    "print(\"              _____      \\                             2 k  \")\n",
    "print(\"atan(%.2f) =              \\      (2*k)!             (x)     \")   \n",
    "print(\"               ____        \\________________  * ___________ \")\n",
    "print(\"               /  2        /     2  k                  2 k  \")\n",
    "print(\"             \\/1+x        / (k)! * 4 * (2*k+1)    (1+(x))   \")\n",
    "print(\"                         /                                  \")\n",
    "print(\"                        /_______                            \")\n",
    "print(\"                          k = 0                             \")\n",
    "\n",
    "\n",
    "print(\"                                 2        2                 \")\n",
    "print(\"                           (2k-1)        x                  \")\n",
    "print(\"Rekurences reizinatajs:  ___________ * ______               \")\n",
    "print(\"                          2k*(2k+1)        2                \")\n",
    "print(\"                                        1+x                 \")"
   ]
  },
  {
   "cell_type": "code",
   "execution_count": null,
   "metadata": {},
   "outputs": [],
   "source": []
  }
 ],
 "metadata": {
  "kernelspec": {
   "display_name": "Python 3",
   "language": "python",
   "name": "python3"
  },
  "language_info": {
   "codemirror_mode": {
    "name": "ipython",
    "version": 3
   },
   "file_extension": ".py",
   "mimetype": "text/x-python",
   "name": "python",
   "nbconvert_exporter": "python",
   "pygments_lexer": "ipython3",
   "version": "3.7.1"
  }
 },
 "nbformat": 4,
 "nbformat_minor": 2
}
