{
 "cells": [
  {
   "cell_type": "code",
   "execution_count": 1,
   "metadata": {},
   "outputs": [
    {
     "name": "stdin",
     "output_type": "stream",
     "text": [
      "Lietotāj, lūdzu, ievadi argumentu (x):  5\n"
     ]
    },
    {
     "name": "stdout",
     "output_type": "stream",
     "text": [
      "sin(5.00) = -0.96\n",
      "a0 = 5.00 S0 = 5.00\n",
      "a1 = -20.83 S1 = -15.83\n",
      "a2 = 26.04 S2 = 10.21\n",
      "a3 = -15.50 S3 = -5.29\n"
     ]
    }
   ],
   "source": [
    "# -*- coding: utf-8 -*-\n",
    "from math import sin\n",
    "# S0, S1, S2, S3 -> S\n",
    "x = float(input(\"Lietotāj, lūdzu, ievadi argumentu (x): \"))\n",
    "y = sin(x)\n",
    "print(\"sin(%.2f) = %.2f\"%(x,y))\n",
    "a0 = (-1)**0*x**1/(1)\n",
    "S = a0\n",
    "print(\"a0 = %.2f S0 = %.2f\"%(a0,S))\n",
    "a1 = (-1)**1*x**3/(1*2*3)\n",
    "#S1 = (a0) + a1\n",
    "#S1 = S0 + a1\n",
    "S = S + a1\n",
    "print(\"a1 = %.2f S1 = %.2f\"%(a1,S))\n",
    "a2 = (-1)**2*x**5/(1*2*3*4*5)\n",
    "#S2 = (a0 + a1) + a2\n",
    "#S2 = S1 + a2\n",
    "S = S + a2\n",
    "print(\"a2 = %.2f S2 = %.2f\"%(a2,S))\n",
    "a3 = (-1)**3*x**7/(1*2*3*4*5*6*7)\n",
    "#S3 = (a0 + a1 + a2) + a3\n",
    "#S3 = S2 + a3\n",
    "S = S + a3\n",
    "print(\"a3 = %.2f S3 = %.2f\"%(a3,S))\n"
   ]
  },
  {
   "cell_type": "code",
   "execution_count": null,
   "metadata": {},
   "outputs": [],
   "source": []
  }
 ],
 "metadata": {
  "kernelspec": {
   "display_name": "Python 3",
   "language": "python",
   "name": "python3"
  },
  "language_info": {
   "codemirror_mode": {
    "name": "ipython",
    "version": 3
   },
   "file_extension": ".py",
   "mimetype": "text/x-python",
   "name": "python",
   "nbconvert_exporter": "python",
   "pygments_lexer": "ipython3",
   "version": "3.7.1"
  }
 },
 "nbformat": 4,
 "nbformat_minor": 2
}
