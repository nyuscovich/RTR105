{
 "cells": [
  {
   "cell_type": "code",
   "execution_count": 1,
   "metadata": {},
   "outputs": [
    {
     "name": "stdout",
     "output_type": "stream",
     "text": [
      "Dotajaa intervaalaa sakne(s) ir!\n",
      "Sakne x ir:  3.1425781250000004\n",
      "f(x) =  -0.0009854712506998128\n",
      "iteraciju skaits:  8\n"
     ]
    }
   ],
   "source": [
    "# Fails: 170.py \n",
    "# Autors: Nikola Juskoviča \n",
    "# Apliecibas numurs: 181REB291 \n",
    "# Datums: 03/12/2018\n",
    "# Sagatave funkcijas saknes mekleeshanai ar dihatomijas metodi\n",
    "\n",
    "# -*- coding: utf -8 -*-\n",
    "from math import sin, fabs\n",
    "from time import sleep\n",
    "\n",
    "def f(x):\n",
    "    return sin(x)\n",
    "\n",
    "# Definejam argumenta x robezhas:\n",
    "a = 1.1\n",
    "b = 3.2\n",
    "\n",
    "# Aprekjinam funkcijas vertibas dotajos punktos:\n",
    "funa = f(a)\n",
    "funb = f(b)\n",
    "\n",
    "# Paarbaudam, vai dotajaa intervaala ir saknes:\n",
    "if ( funa * funb > 0.0) :\n",
    "    print (\"Dotajaa intervaale [%s, %s] saknju nav\")%(a,b)\n",
    "    sleep(1); exit()    # Zinjo uz ekraana, gaida 1 sec. un darbu pabeidz\n",
    "else:\n",
    "    print (\"Dotajaa intervaalaa sakne(s) ir!\")\n",
    "\n",
    "# Defineejam precizitaati, ar kaadu mekleesim sakni:\n",
    "deltax = 0.01\n",
    "k = 0\n",
    "\n",
    "# Sashaurinam saknes mekleeshanas robezhas:\n",
    "while ( fabs(b-a) > deltax ) :\n",
    "    k = k + 1\n",
    "    x = (a+b)/2; funx = f(x)\n",
    "    if ( funa*funx < 0.0 ):\n",
    "        b = x\n",
    "    else:\n",
    "        a = x\n",
    "\n",
    "print (\"Sakne x ir: \", x)\n",
    "print (\"f(x) = \", f(x))\n",
    "print (\"iteraciju skaits: \", k)\n"
   ]
  },
  {
   "cell_type": "code",
   "execution_count": null,
   "metadata": {},
   "outputs": [],
   "source": []
  }
 ],
 "metadata": {
  "kernelspec": {
   "display_name": "Python 3",
   "language": "python",
   "name": "python3"
  },
  "language_info": {
   "codemirror_mode": {
    "name": "ipython",
    "version": 3
   },
   "file_extension": ".py",
   "mimetype": "text/x-python",
   "name": "python",
   "nbconvert_exporter": "python",
   "pygments_lexer": "ipython3",
   "version": "3.7.1"
  }
 },
 "nbformat": 4,
 "nbformat_minor": 2
}
